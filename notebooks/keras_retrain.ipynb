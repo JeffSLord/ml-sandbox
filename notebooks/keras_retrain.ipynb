{
 "cells": [
  {
   "cell_type": "code",
   "execution_count": 1,
   "metadata": {},
   "outputs": [],
   "source": [
    "import tensorflow as tf"
   ]
  },
  {
   "cell_type": "code",
   "execution_count": 2,
   "metadata": {},
   "outputs": [
    {
     "name": "stderr",
     "output_type": "stream",
     "text": [
      "Using TensorFlow backend.\n"
     ]
    },
    {
     "name": "stdout",
     "output_type": "stream",
     "text": [
      "Downloading data from https://github.com/fchollet/deep-learning-models/releases/download/v0.6/mobilenet_1_0_224_tf_no_top.h5\n",
      "17227776/17225924 [==============================] - 6s 0us/step\n"
     ]
    }
   ],
   "source": [
    "from keras.applications import MobileNet\n",
    "image_size = 224\n",
    "input_shape = (224, 224, 3)\n",
    "mobile_conn = MobileNet(input_shape=input_shape, include_top=False, weights='imagenet')"
   ]
  },
  {
   "cell_type": "code",
   "execution_count": 3,
   "metadata": {},
   "outputs": [],
   "source": [
    "for layer in mobile_conn.layers[:-6]:\n",
    "    layer.trainable = False"
   ]
  },
  {
   "cell_type": "code",
   "execution_count": 4,
   "metadata": {},
   "outputs": [
    {
     "name": "stdout",
     "output_type": "stream",
     "text": [
      "_________________________________________________________________\n",
      "Layer (type)                 Output Shape              Param #   \n",
      "=================================================================\n",
      "mobilenet_1.00_224 (Model)   (None, 7, 7, 1024)        3228864   \n",
      "_________________________________________________________________\n",
      "flatten_1 (Flatten)          (None, 50176)             0         \n",
      "_________________________________________________________________\n",
      "dense_1 (Dense)              (None, 1024)              51381248  \n",
      "_________________________________________________________________\n",
      "dropout_1 (Dropout)          (None, 1024)              0         \n",
      "_________________________________________________________________\n",
      "dense_2 (Dense)              (None, 2)                 2050      \n",
      "=================================================================\n",
      "Total params: 54,612,162\n",
      "Trainable params: 52,445,186\n",
      "Non-trainable params: 2,166,976\n",
      "_________________________________________________________________\n"
     ]
    }
   ],
   "source": [
    "from keras import models\n",
    "from keras import layers\n",
    "from keras import optimizers\n",
    "\n",
    "model = models.Sequential()\n",
    "model.add(mobile_conn)\n",
    "\n",
    "# Add new layers\n",
    "model.add(layers.Flatten())\n",
    "model.add(layers.Dense(1024, activation='relu'))\n",
    "model.add(layers.Dropout(0.5))\n",
    "model.add(layers.Dense(2, activation='softmax'))\n",
    "\n",
    "model.summary()"
   ]
  },
  {
   "cell_type": "code",
   "execution_count": 5,
   "metadata": {},
   "outputs": [],
   "source": [
    "data_dir = \"/data/ml_data/images/oilwater/\""
   ]
  },
  {
   "cell_type": "code",
   "execution_count": 6,
   "metadata": {},
   "outputs": [
    {
     "name": "stdout",
     "output_type": "stream",
     "text": [
      " Iteration 422 File: water_146.jpg422ration 371 File: water_095.jpg\n"
     ]
    }
   ],
   "source": [
    "# Run this to resave all files to avoid issues with incorrect image formats\n",
    "\n",
    "\n",
    "from PIL import Image\n",
    "import os\n",
    "\n",
    "count = 0\n",
    "for subdir, dirs, files in os.walk(data_dir):\n",
    "    for file in files:\n",
    "        count+=1\n",
    "        cur_file = os.path.join(data_dir, subdir, file)\n",
    "        print('\\r', 'Iteration', count, 'File:', file, end='')\n",
    "#         print(cur_file)\n",
    "        if file.endswith(\".jpg\"):\n",
    "            try:\n",
    "                i = Image.open(cur_file)\n",
    "                i.save(cur_file)\n",
    "            except:\n",
    "                os.remove(cur_file)\n",
    "print(count)\n"
   ]
  },
  {
   "cell_type": "code",
   "execution_count": 7,
   "metadata": {},
   "outputs": [
    {
     "name": "stdout",
     "output_type": "stream",
     "text": [
      "Found 317 images belonging to 2 classes.\n",
      "Found 105 images belonging to 2 classes.\n"
     ]
    }
   ],
   "source": [
    "from keras.preprocessing.image import ImageDataGenerator\n",
    "train_dir = data_dir\n",
    "validation_dir = data_dir\n",
    "\n",
    "\n",
    "training_datagen = ImageDataGenerator(\n",
    "    rescale=1./255,\n",
    "    rotation_range=20,\n",
    "    width_shift_range=0.2,\n",
    "    height_shift_range=0.2,\n",
    "    horizontal_flip=True,\n",
    "    fill_mode='nearest',\n",
    "    validation_split = 0.25,\n",
    ")\n",
    "\n",
    "# train_datagen = ImageDataGenerator(\n",
    "#       rescale=1./255,\n",
    "#       rotation_range=20,\n",
    "#       width_shift_range=0.2,\n",
    "#       height_shift_range=0.2,\n",
    "#       horizontal_flip=True,\n",
    "#       fill_mode='nearest',\n",
    "# validation_split = 0.25)\n",
    "\n",
    "# validation_datagen = ImageDataGenerator(rescale=1./255)\n",
    "\n",
    "# Change the batchsize according to your system RAM\n",
    "train_batchsize = 30\n",
    "val_batchsize = 10\n",
    "\n",
    "train_generator = training_datagen.flow_from_directory(\n",
    "        train_dir,\n",
    "        target_size=(image_size, image_size),\n",
    "        batch_size=train_batchsize,\n",
    "        class_mode='categorical',\n",
    "        subset='training')\n",
    "\n",
    "validation_generator = training_datagen.flow_from_directory(\n",
    "        validation_dir,\n",
    "        target_size=(image_size, image_size),\n",
    "        batch_size=val_batchsize,\n",
    "        class_mode='categorical',\n",
    "        shuffle=False,\n",
    "        subset='validation')"
   ]
  },
  {
   "cell_type": "code",
   "execution_count": 10,
   "metadata": {},
   "outputs": [],
   "source": [
    "output_dir = '/data/md_data/models/'\n",
    "output_name = 'test_model.h5'"
   ]
  },
  {
   "cell_type": "code",
   "execution_count": null,
   "metadata": {},
   "outputs": [
    {
     "name": "stdout",
     "output_type": "stream",
     "text": [
      "Epoch 1/10\n",
      "11/10 [===============================] - 93s 8s/step - loss: 5.5965 - acc: 0.6528 - val_loss: 5.5262 - val_acc: 0.6571\n",
      "Epoch 2/10\n",
      "11/10 [===============================] - 71s 6s/step - loss: 5.4938 - acc: 0.6592 - val_loss: 5.5262 - val_acc: 0.6571\n",
      "Epoch 3/10\n",
      "11/10 [===============================] - 64s 6s/step - loss: 5.5280 - acc: 0.6570 - val_loss: 5.5262 - val_acc: 0.6571\n",
      "Epoch 4/10\n",
      " 6/10 [================>.............] - ETA: 24s - loss: 5.7309 - acc: 0.6444"
     ]
    }
   ],
   "source": [
    "# Compile the model\n",
    "model.compile(loss='categorical_crossentropy',\n",
    "              optimizer=optimizers.Adam(lr=1e-4),\n",
    "              metrics=['acc'])\n",
    "# Train the model\n",
    "history = model.fit_generator(\n",
    "      train_generator,\n",
    "      steps_per_epoch=train_generator.samples/train_generator.batch_size ,\n",
    "      epochs=10,\n",
    "      validation_data=validation_generator,\n",
    "      validation_steps=validation_generator.samples/validation_generator.batch_size,\n",
    "      verbose=1)\n",
    " \n",
    "# Save the model\n",
    "model.save(ouput_dir + output_name)"
   ]
  },
  {
   "cell_type": "code",
   "execution_count": 8,
   "metadata": {},
   "outputs": [
    {
     "data": {
      "text/plain": [
       "<Figure size 640x480 with 1 Axes>"
      ]
     },
     "metadata": {},
     "output_type": "display_data"
    },
    {
     "data": {
      "text/plain": [
       "<Figure size 640x480 with 1 Axes>"
      ]
     },
     "metadata": {},
     "output_type": "display_data"
    }
   ],
   "source": [
    "import matplotlib.pyplot as plt\n",
    "\n",
    "acc = history.history['acc']\n",
    "val_acc = history.history['val_acc']\n",
    "loss = history.history['loss']\n",
    "val_loss = history.history['val_loss']\n",
    " \n",
    "epochs = range(len(acc))\n",
    " \n",
    "plt.plot(epochs, acc, 'b', label='Training acc')\n",
    "plt.plot(epochs, val_acc, 'r', label='Validation acc')\n",
    "plt.title('Training and validation accuracy')\n",
    "plt.legend()\n",
    " \n",
    "plt.figure()\n",
    " \n",
    "plt.plot(epochs, loss, 'b', label='Training loss')\n",
    "plt.plot(epochs, val_loss, 'r', label='Validation loss')\n",
    "plt.title('Training and validation loss')\n",
    "plt.legend()\n",
    " \n",
    "plt.show()"
   ]
  },
  {
   "cell_type": "code",
   "execution_count": null,
   "metadata": {},
   "outputs": [],
   "source": []
  },
  {
   "cell_type": "code",
   "execution_count": 7,
   "metadata": {},
   "outputs": [
    {
     "name": "stdout",
     "output_type": "stream",
     "text": [
      "Tensor(\"mobilenet_1.00_224_input_1:0\", shape=(?, 224, 224, 3), dtype=float32)\n",
      "Tensor(\"dense_2_1/Softmax:0\", shape=(?, 2), dtype=float32)\n",
      "INFO:tensorflow:No assets to save.\n",
      "INFO:tensorflow:No assets to write.\n",
      "INFO:tensorflow:SavedModel written to: /development/models/TestModel/1/saved_model.pb\n"
     ]
    },
    {
     "data": {
      "text/plain": [
       "b'/development/models/TestModel/1/saved_model.pb'"
      ]
     },
     "execution_count": 7,
     "metadata": {},
     "output_type": "execute_result"
    }
   ],
   "source": [
    "# import tensorflow as tf\n",
    "from keras import backend as K\n",
    "from keras.models import load_model\n",
    "from tensorflow.python.saved_model import builder as saved_model_builder\n",
    "from tensorflow.python.saved_model.signature_def_utils import predict_signature_def\n",
    "from tensorflow.python.saved_model import tag_constants\n",
    "\n",
    "K.set_learning_phase(0) # Ignore dropout at inference\n",
    "keras_model = load_model(output_dir + output_name)\n",
    "print(keras_model.input)\n",
    "print(keras_model.output)\n",
    "\n",
    "builder = saved_model_builder.SavedModelBuilder(output_dir + 'TestModel/1')\n",
    "signature = predict_signature_def(inputs={\"images\": keras_model.input},\n",
    "                                  outputs={\"scores\": keras_model.output})\n",
    "\n",
    "# saved_model_export_path = output_dir + 'TestModel/1'\n",
    "with K.get_session() as sess:\n",
    "#     tf.saved_model.simple_save(\n",
    "#         sess,\n",
    "#         saved_model_export_path,\n",
    "#         inputs={'input_image': model.input},\n",
    "#         outputs={t.name:t for t in model.outputs})\n",
    "    builder.add_meta_graph_and_variables(sess=sess, tags=[tag_constants.SERVING],\n",
    "                                         signature_def_map={\"predict\": signature})\n",
    "builder.save()\n",
    "\n",
    "\n",
    "\n",
    "\n",
    "\n",
    "# # maybe replace mobile_conn with model\n",
    "# prediction_signature = tf.saved_model.signature_def_utils.predict_signature_def({\"image\": mobile_conn.input}, {\"prediction\":mobile_conn.output})\n",
    "\n",
    "# # export_path is a directory in which the model will be created\n",
    "# builder = saved_model_builder.SavedModelBuilder('/development/models/')\n",
    "# legacy_init_op = tf.group(tf.tables_initializer(), name='legacy_init_op')\n",
    "\n",
    "# # Initialize global variables and the model\n",
    "# init_op = tf.group(tf.global_variables_initializer(), tf.local_variables_initializer())\n",
    "# sess.run(init_op)\n",
    "\n",
    "# # Add the meta_graph and the variables to the builder\n",
    "# builder.add_meta_graph_and_variables(\n",
    "#       sess, [tag_constants.SERVING],\n",
    "#       signature_def_map={\n",
    "#            signature_constants.DEFAULT_SERVING_SIGNATURE_DEF_KEY:\n",
    "#                prediction_signature,\n",
    "#       },\n",
    "#       legacy_init_op=legacy_init_op)\n",
    "# # save the graph      \n",
    "# builder.save()      "
   ]
  },
  {
   "cell_type": "code",
   "execution_count": null,
   "metadata": {},
   "outputs": [],
   "source": []
  }
 ],
 "metadata": {
  "kernelspec": {
   "display_name": "Python 3",
   "language": "python",
   "name": "python3"
  },
  "language_info": {
   "codemirror_mode": {
    "name": "ipython",
    "version": 3
   },
   "file_extension": ".py",
   "mimetype": "text/x-python",
   "name": "python",
   "nbconvert_exporter": "python",
   "pygments_lexer": "ipython3",
   "version": "3.5.2"
  }
 },
 "nbformat": 4,
 "nbformat_minor": 2
}
