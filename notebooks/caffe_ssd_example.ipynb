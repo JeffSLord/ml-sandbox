{
 "cells": [
  {
   "cell_type": "code",
   "execution_count": 7,
   "metadata": {},
   "outputs": [],
   "source": [
    "test\n",
    "import cv2\n",
    "import argparse\n",
    "import numpy as np\n",
    "import os\n",
    "from imutils.video import VideoStream\n",
    "from imutils.video import FPS\n",
    "import imutils\n",
    "import time"
   ]
  },
  {
   "cell_type": "code",
   "execution_count": 8,
   "metadata": {},
   "outputs": [],
   "source": [
    "base_path = \"/Users/Jeff/Google Drive/Drive/Work/SAP/test_data/models/\"\n",
    "model_path = os.path.join(base_path, \"MobileNetSSD_deploy.caffemodel\")\n",
    "proto_path = os.path.join(base_path, \"MobileNetSSD_deploy.prototxt\")\n",
    "confidence=0.2"
   ]
  },
  {
   "cell_type": "code",
   "execution_count": 9,
   "metadata": {},
   "outputs": [
    {
     "name": "stdout",
     "output_type": "stream",
     "text": [
      "[INFO] starting video stream...\n",
      "[INFO] elapsed time: 20.33\n",
      "[INFO] approx. FPS: 7.77\n"
     ]
    }
   ],
   "source": [
    "cap = cv2.VideoCapture(0)\n",
    "temp, preimage = cap.read()\n",
    "\n",
    "CLASSES = [\"background\", \"aeroplane\", \"bicycle\", \"bird\", \"boat\",\n",
    "            \"bottle\", \"bus\", \"car\", \"cat\", \"chair\", \"cow\", \"diningtable\",\n",
    "            \"dog\", \"horse\", \"motorbike\", \"person\", \"pottedplant\", \"sheep\",\n",
    "            \"sofa\", \"train\", \"tvmonitor\"]\n",
    "\n",
    "COLORS = np.random.uniform(0, 255, size=(len(CLASSES), 3))\n",
    "\n",
    "net = cv2.dnn.readNetFromCaffe(proto_path, model_path)\n",
    "\n",
    "print(\"[INFO] starting video stream...\")\n",
    "vs = VideoStream(src=0).start()\n",
    "time.sleep(2.0)\n",
    "fps = FPS().start()\n",
    "i = 0\n",
    "while(True):\n",
    "    # temp, image = cap.read()\n",
    "    # image = cv2.imread(image)\n",
    "\n",
    "    frame = vs.read()\n",
    "    originalFrame = frame\n",
    "    frame = imutils.resize(frame, width=400)\n",
    "    (h, w) = frame.shape[:2]\n",
    "    blob = cv2.dnn.blobFromImage(cv2.resize(\n",
    "        frame, (300, 300)), 0.007843, (300, 300), 127.5)\n",
    "    net.setInput(blob)\n",
    "    detections = net.forward()\n",
    "    # print(detections)\n",
    "    # detections.shape[2] corresponds to how many objects were detected in this model\n",
    "    for i in np.arange(0, detections.shape[2]):\n",
    "        # print(detections.shape[2])\n",
    "        confidence = detections[0, 0, i, 2]\n",
    "        if confidence > confidence:\n",
    "            idx = int(detections[0, 0, i, 1])\n",
    "            # print(idx)\n",
    "            box = detections[0, 0, i, 3:7] * np.array([w, h, w, h])\n",
    "            (startX, startY, endX, endY) = box.astype(\"int\")\n",
    "            label = \"{}: {:.2f}%\".format(CLASSES[idx], confidence * 100)\n",
    "            print(\"[INFO] {}\".format(label))\n",
    "            cv2.rectangle(frame, (startX, startY),\n",
    "                          (endX, endY), COLORS[idx], 2)\n",
    "            y = startY - 15 if startY - 15 > 15 else startY + 15\n",
    "            cv2.putText(frame, label, (startX, y),\n",
    "                        cv2.FONT_HERSHEY_SIMPLEX, 0.5, COLORS[idx], 2)\n",
    "\n",
    "    cv2.imshow(\"Output\", frame)\n",
    "    key = cv2.waitKey(1) & 0xFF\n",
    "    if(key == ord(\"q\")):\n",
    "        break\n",
    "    fps.update()\n",
    "    time.sleep(0.05)\n",
    "fps.stop()\n",
    "print(\"[INFO] elapsed time: {:.2f}\".format(fps.elapsed()))\n",
    "print(\"[INFO] approx. FPS: {:.2f}\".format(fps.fps()))\n",
    "cv2.destroyAllWindows()\n",
    "vs.stop()"
   ]
  },
  {
   "cell_type": "code",
   "execution_count": null,
   "metadata": {},
   "outputs": [],
   "source": []
  }
 ],
 "metadata": {
  "kernelspec": {
   "display_name": "Python 3",
   "language": "python",
   "name": "python3"
  },
  "language_info": {
   "codemirror_mode": {
    "name": "ipython",
    "version": 3
   },
   "file_extension": ".py",
   "mimetype": "text/x-python",
   "name": "python",
   "nbconvert_exporter": "python",
   "pygments_lexer": "ipython3",
   "version": "3.5.2"
  }
 },
 "nbformat": 4,
 "nbformat_minor": 2
}
